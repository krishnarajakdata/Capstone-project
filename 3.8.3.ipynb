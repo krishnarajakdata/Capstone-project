{
 "cells": [
  {
   "cell_type": "code",
   "execution_count": 1,
   "id": "aa1a8f8b",
   "metadata": {},
   "outputs": [
    {
     "name": "stdout",
     "output_type": "stream",
     "text": [
      "         STATE/UT       DISTRICT  Year  Rape  Kidnapping and Abduction  \\\n",
      "0  ANDHRA PRADESH       ADILABAD  2001    50                        30   \n",
      "1  ANDHRA PRADESH      ANANTAPUR  2001    23                        30   \n",
      "2  ANDHRA PRADESH       CHITTOOR  2001    27                        34   \n",
      "3  ANDHRA PRADESH       CUDDAPAH  2001    20                        20   \n",
      "4  ANDHRA PRADESH  EAST GODAVARI  2001    23                        26   \n",
      "\n",
      "   Dowry Deaths  Assault on women with intent to outrage her modesty  \\\n",
      "0            16                                                149     \n",
      "1             7                                                118     \n",
      "2            14                                                112     \n",
      "3            17                                                126     \n",
      "4            12                                                109     \n",
      "\n",
      "   Insult to modesty of Women  Cruelty by Husband or his Relatives  \\\n",
      "0                          34                                  175   \n",
      "1                          24                                  154   \n",
      "2                          83                                  186   \n",
      "3                          38                                   57   \n",
      "4                          58                                  247   \n",
      "\n",
      "   Importation of Girls  \n",
      "0                     0  \n",
      "1                     0  \n",
      "2                     0  \n",
      "3                     0  \n",
      "4                     0  \n"
     ]
    }
   ],
   "source": [
    "import pandas as pd\n",
    "\n",
    "\n",
    "csv_file_path = r\"C:\\Users\\USER\\Downloads\\india crime\\India_Crime_Data\\India_Crime - Copy\\42_District_wise_crimes_committed_against_women_2001_2012.csv\"\n",
    "df = pd.read_csv(csv_file_path)\n",
    "\n",
    "\n",
    "print(df.head())\n"
   ]
  },
  {
   "cell_type": "code",
   "execution_count": 8,
   "id": "b845faad",
   "metadata": {},
   "outputs": [],
   "source": [
    "\n",
    "df.columns = df.columns.str.strip()\n",
    "\n",
    "\n",
    "district_counts = df.groupby('DISTRICT').size()\n",
    "\n",
    "\n",
    "districts_3_or_more_years = district_counts[district_counts >= 3].index\n",
    "\n",
    "\n",
    "filtered_df = df[df['DISTRICT'].isin(districts_3_or_more_years)]\n"
   ]
  },
  {
   "cell_type": "code",
   "execution_count": 16,
   "id": "ec6adcb0",
   "metadata": {},
   "outputs": [
    {
     "name": "stdout",
     "output_type": "stream",
     "text": [
      "         STATE/UT           DISTRICT  Rape  Year\n",
      "5055  WEST BENGAL  24 PARGANAS NORTH   231  2007\n",
      "3572  WEST BENGAL  24 PARGANAS NORTH   217  2005\n",
      "8147  WEST BENGAL  24 PARGANAS NORTH   203  2011\n",
      "5811  WEST BENGAL  24 PARGANAS NORTH   192  2008\n",
      "2839  WEST BENGAL  24 PARGANAS NORTH   176  2004\n",
      "...           ...                ...   ...   ...\n",
      "3342     NAGALAND          ZUNHEBOTO     1  2005\n",
      "2608     NAGALAND          ZUNHEBOTO     1  2004\n",
      "1151     NAGALAND          ZUNHEBOTO     1  2002\n",
      "4819     NAGALAND          ZUNHEBOTO     0  2007\n",
      "1880     NAGALAND          ZUNHEBOTO     0  2003\n",
      "\n",
      "[8934 rows x 4 columns]\n"
     ]
    }
   ],
   "source": [
    "\n",
    "sorted_df = filtered_df.sort_values(by=['DISTRICT', 'STATE/UT', 'Rape', 'Year'], ascending=[True, True, False, False])\n",
    "\n",
    "\n",
    "result_df = sorted_df[['STATE/UT', 'DISTRICT', 'Rape', 'Year']]\n",
    "\n",
    "\n",
    "print(result_df)\n"
   ]
  },
  {
   "cell_type": "code",
   "execution_count": 17,
   "id": "c1e86011",
   "metadata": {},
   "outputs": [
    {
     "name": "stdout",
     "output_type": "stream",
     "text": [
      "         STATE/UT       DISTRICT  Year  Rape  Kidnapping and Abduction  \\\n",
      "0  ANDHRA PRADESH       ADILABAD  2001    50                        30   \n",
      "1  ANDHRA PRADESH      ANANTAPUR  2001    23                        30   \n",
      "2  ANDHRA PRADESH       CHITTOOR  2001    27                        34   \n",
      "3  ANDHRA PRADESH       CUDDAPAH  2001    20                        20   \n",
      "4  ANDHRA PRADESH  EAST GODAVARI  2001    23                        26   \n",
      "\n",
      "   Dowry Deaths  Assault on women with intent to outrage her modesty  \\\n",
      "0            16                                                149     \n",
      "1             7                                                118     \n",
      "2            14                                                112     \n",
      "3            17                                                126     \n",
      "4            12                                                109     \n",
      "\n",
      "   Insult to modesty of Women  Cruelty by Husband or his Relatives  \\\n",
      "0                          34                                  175   \n",
      "1                          24                                  154   \n",
      "2                          83                                  186   \n",
      "3                          38                                   57   \n",
      "4                          58                                  247   \n",
      "\n",
      "   Importation of Girls  \n",
      "0                     0  \n",
      "1                     0  \n",
      "2                     0  \n",
      "3                     0  \n",
      "4                     0  \n",
      "         STATE/UT           DISTRICT  Rape  Year\n",
      "5055  WEST BENGAL  24 PARGANAS NORTH   231  2007\n",
      "3572  WEST BENGAL  24 PARGANAS NORTH   217  2005\n",
      "8147  WEST BENGAL  24 PARGANAS NORTH   203  2011\n",
      "5811  WEST BENGAL  24 PARGANAS NORTH   192  2008\n",
      "2839  WEST BENGAL  24 PARGANAS NORTH   176  2004\n",
      "...           ...                ...   ...   ...\n",
      "3342     NAGALAND          ZUNHEBOTO     1  2005\n",
      "2608     NAGALAND          ZUNHEBOTO     1  2004\n",
      "1151     NAGALAND          ZUNHEBOTO     1  2002\n",
      "4819     NAGALAND          ZUNHEBOTO     0  2007\n",
      "1880     NAGALAND          ZUNHEBOTO     0  2003\n",
      "\n",
      "[8934 rows x 4 columns]\n"
     ]
    }
   ],
   "source": [
    "import pandas as pd\n",
    "\n",
    "\n",
    "csv_file_path = r\"C:\\Users\\USER\\Downloads\\india crime\\India_Crime_Data\\India_Crime - Copy\\42_District_wise_crimes_committed_against_women_2001_2012.csv\"\n",
    "df = pd.read_csv(csv_file_path)\n",
    "\n",
    "\n",
    "print(df.head())\n",
    "\n",
    "\n",
    "df.columns = df.columns.str.strip()\n",
    "\n",
    "\n",
    "district_counts = df.groupby('DISTRICT').size()\n",
    "\n",
    "\n",
    "districts_3_or_more_years = district_counts[district_counts >= 3].index\n",
    "\n",
    "\n",
    "filtered_df = df[df['DISTRICT'].isin(districts_3_or_more_years)]\n",
    "\n",
    "\n",
    "sorted_df = filtered_df.sort_values(by=['DISTRICT', 'STATE/UT', 'Rape', 'Year'], ascending=[True, True, False, False])\n",
    "\n",
    "\n",
    "result_df = sorted_df[['STATE/UT', 'DISTRICT', 'Rape', 'Year']]\n",
    "\n",
    "\n",
    "print(result_df)"
   ]
  },
  {
   "cell_type": "code",
   "execution_count": null,
   "id": "d6f5b54c",
   "metadata": {},
   "outputs": [],
   "source": []
  }
 ],
 "metadata": {
  "kernelspec": {
   "display_name": "Python 3 (ipykernel)",
   "language": "python",
   "name": "python3"
  },
  "language_info": {
   "codemirror_mode": {
    "name": "ipython",
    "version": 3
   },
   "file_extension": ".py",
   "mimetype": "text/x-python",
   "name": "python",
   "nbconvert_exporter": "python",
   "pygments_lexer": "ipython3",
   "version": "3.10.9"
  }
 },
 "nbformat": 4,
 "nbformat_minor": 5
}
